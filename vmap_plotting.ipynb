{
 "cells": [
  {
   "cell_type": "code",
   "execution_count": 1,
   "metadata": {},
   "outputs": [],
   "source": [
    "from matplotlib.pyplot import figure, show\n",
    "import matplotlib.pyplot as plt\n",
    "import numpy as np\n",
    "import numba\n",
    "\n",
    "from osgeo import gdal\n",
    "\n",
    "from scipy.interpolate import RectBivariateSpline\n",
    "\n",
    "\n",
    "import time"
   ]
  },
  {
   "cell_type": "code",
   "execution_count": 2,
   "metadata": {},
   "outputs": [],
   "source": [
    "### Open rasters\n",
    "\n",
    "ds = gdal.Open(\"/home/yadevries/sarpixeltracking/reference_tiled__secondary_tiled_vmap_minm_35px_spm1/reference_tiled__secondary_tiled_vmap_minm_35px_spm1-F.tif\", gdal.GA_ReadOnly)\n",
    "\n",
    "x_raster = ds.GetRasterBand(1).ReadAsArray()\n",
    "y_raster = ds.GetRasterBand(2).ReadAsArray()\n",
    "\n",
    "ds = None\n",
    "\n"
   ]
  },
  {
   "cell_type": "code",
   "execution_count": 3,
   "metadata": {},
   "outputs": [],
   "source": [
    "fig = plt.figure(figsize=(15, 8))\n",
    "\n",
    "# display amplitude of the slc\n",
    "fr1 = fig.add_subplot(1,2,1)\n",
    "\n",
    "fr1.imshow(x_raster, vmin=-1, vmax=1, cmap='seismic', aspect='auto')\n",
    "\n",
    "fr2 = fig.add_subplot(1,2,2)\n",
    "\n",
    "fr2.imshow(y_raster, vmin=-1, vmax=1, cmap='seismic', aspect='auto')\n",
    "\n",
    "fig.tight_layout()\n",
    "\n",
    "plt.show()"
   ]
  },
  {
   "cell_type": "code",
   "execution_count": null,
   "metadata": {},
   "outputs": [],
   "source": []
  }
 ],
 "metadata": {
  "kernelspec": {
   "display_name": "PixelTracking",
   "language": "python",
   "name": "python3"
  },
  "language_info": {
   "codemirror_mode": {
    "name": "ipython",
    "version": 3
   },
   "file_extension": ".py",
   "mimetype": "text/x-python",
   "name": "python",
   "nbconvert_exporter": "python",
   "pygments_lexer": "ipython3",
   "version": "3.10.12"
  },
  "orig_nbformat": 4
 },
 "nbformat": 4,
 "nbformat_minor": 2
}
